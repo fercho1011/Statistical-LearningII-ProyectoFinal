{
  "nbformat": 4,
  "nbformat_minor": 0,
  "metadata": {
    "colab": {
      "name": "CONVNET3.ipynb",
      "provenance": [],
      "collapsed_sections": [],
      "machine_shape": "hm",
      "include_colab_link": true
    },
    "kernelspec": {
      "name": "python3",
      "display_name": "Python 3"
    },
    "accelerator": "GPU"
  },
  "cells": [
    {
      "cell_type": "markdown",
      "metadata": {
        "id": "view-in-github",
        "colab_type": "text"
      },
      "source": [
        "<a href=\"https://colab.research.google.com/github/fercho1011/Statistical-LearningII-ProyectoFinal/blob/master/CONVNET3.ipynb\" target=\"_parent\"><img src=\"https://colab.research.google.com/assets/colab-badge.svg\" alt=\"Open In Colab\"/></a>"
      ]
    },
    {
      "cell_type": "code",
      "metadata": {
        "id": "uIVwFQiLU86F",
        "colab_type": "code",
        "outputId": "3814912a-f4b5-49fe-8afb-68ca5d57bfaa",
        "colab": {
          "base_uri": "https://localhost:8080/",
          "height": 121
        }
      },
      "source": [
        "from google.colab import drive\n",
        "drive.mount('/content/drive')"
      ],
      "execution_count": 1,
      "outputs": [
        {
          "output_type": "stream",
          "text": [
            "Go to this URL in a browser: https://accounts.google.com/o/oauth2/auth?client_id=947318989803-6bn6qk8qdgf4n4g3pfee6491hc0brc4i.apps.googleusercontent.com&redirect_uri=urn%3Aietf%3Awg%3Aoauth%3A2.0%3Aoob&scope=email%20https%3A%2F%2Fwww.googleapis.com%2Fauth%2Fdocs.test%20https%3A%2F%2Fwww.googleapis.com%2Fauth%2Fdrive%20https%3A%2F%2Fwww.googleapis.com%2Fauth%2Fdrive.photos.readonly%20https%3A%2F%2Fwww.googleapis.com%2Fauth%2Fpeopleapi.readonly&response_type=code\n",
            "\n",
            "Enter your authorization code:\n",
            "··········\n",
            "Mounted at /content/drive\n"
          ],
          "name": "stdout"
        }
      ]
    },
    {
      "cell_type": "code",
      "metadata": {
        "id": "Hjyl09UYVAGE",
        "colab_type": "code",
        "outputId": "06f278bb-952f-4d2d-98bb-a97f00f8fc68",
        "colab": {
          "base_uri": "https://localhost:8080/",
          "height": 34
        }
      },
      "source": [
        "cd drive/\"My Drive\""
      ],
      "execution_count": 2,
      "outputs": [
        {
          "output_type": "stream",
          "text": [
            "/content/drive/My Drive\n"
          ],
          "name": "stdout"
        }
      ]
    },
    {
      "cell_type": "code",
      "metadata": {
        "id": "UhR3ARbxVNKW",
        "colab_type": "code",
        "outputId": "1e8a1879-b4fd-41c2-8d98-e8257d02b26b",
        "colab": {
          "base_uri": "https://localhost:8080/",
          "height": 34
        }
      },
      "source": [
        "cd \"Colab Notebooks\""
      ],
      "execution_count": 3,
      "outputs": [
        {
          "output_type": "stream",
          "text": [
            "/content/drive/My Drive/Colab Notebooks\n"
          ],
          "name": "stdout"
        }
      ]
    },
    {
      "cell_type": "code",
      "metadata": {
        "id": "1DpHNJZvWQfg",
        "colab_type": "code",
        "outputId": "d2701987-12d6-40c0-f98f-f6a581a358b1",
        "colab": {
          "base_uri": "https://localhost:8080/",
          "height": 34
        }
      },
      "source": [
        "cd 'Final Proyect ML2'"
      ],
      "execution_count": 4,
      "outputs": [
        {
          "output_type": "stream",
          "text": [
            "/content/drive/My Drive/Colab Notebooks/Final Proyect ML2\n"
          ],
          "name": "stdout"
        }
      ]
    },
    {
      "cell_type": "code",
      "metadata": {
        "id": "q3ThUJZvWQlv",
        "colab_type": "code",
        "outputId": "5f7f6517-7658-4979-8ad9-84a2b68a5fa0",
        "colab": {
          "base_uri": "https://localhost:8080/",
          "height": 34
        }
      },
      "source": [
        "ls"
      ],
      "execution_count": 5,
      "outputs": [
        {
          "output_type": "stream",
          "text": [
            "ANN.ipynb  \u001b[0m\u001b[01;34mDATASET\u001b[0m/  DATASET.zip  FtOrganic.npy  FtRecycled.npy  test.npy\n"
          ],
          "name": "stdout"
        }
      ]
    },
    {
      "cell_type": "code",
      "metadata": {
        "id": "VVeskqeHXBv4",
        "colab_type": "code",
        "colab": {}
      },
      "source": [
        "import numpy as np\n",
        "Organic = np.load('FtOrganic.npy', allow_pickle=True)\n"
      ],
      "execution_count": 0,
      "outputs": []
    },
    {
      "cell_type": "code",
      "metadata": {
        "id": "Kj2epp3_X3Ki",
        "colab_type": "code",
        "colab": {}
      },
      "source": [
        "Recycled = np.load('FtRecycled.npy', allow_pickle=True)"
      ],
      "execution_count": 0,
      "outputs": []
    },
    {
      "cell_type": "code",
      "metadata": {
        "id": "86gzoSl2X71J",
        "colab_type": "code",
        "colab": {}
      },
      "source": [
        "Test = np.load('test.npy', allow_pickle=True)\n"
      ],
      "execution_count": 0,
      "outputs": []
    },
    {
      "cell_type": "code",
      "metadata": {
        "id": "AScvwVHzX9mS",
        "colab_type": "code",
        "outputId": "26ad30e0-ed13-43de-e032-31845a3a71a9",
        "colab": {
          "base_uri": "https://localhost:8080/",
          "height": 50
        }
      },
      "source": [
        "from PIL import Image\n",
        "image2 = Image.fromarray(Test[0])\n",
        "# summarize image details\n",
        "print(image2.mode)\n",
        "print(image2.size)\n",
        "image3 = image2.resize((150,150))"
      ],
      "execution_count": 9,
      "outputs": [
        {
          "output_type": "stream",
          "text": [
            "RGB\n",
            "(210, 240)\n"
          ],
          "name": "stdout"
        }
      ]
    },
    {
      "cell_type": "code",
      "metadata": {
        "id": "VRJtNbn1X8MJ",
        "colab_type": "code",
        "colab": {}
      },
      "source": [
        "#Reshaping Test images to 175x175 and storing into Array\n",
        "maxiters = 5000\n",
        "rTest = []\n",
        "count = 0\n",
        "for i in Test:\n",
        "  img = Image.fromarray(i)\n",
        "  if (np.array(img).shape[2])==3:\n",
        "    rTest.append(np.asarray(img.resize((175,175)))/255)\n",
        "  count +=1\n",
        "  if count == maxiters:\n",
        "    break"
      ],
      "execution_count": 0,
      "outputs": []
    },
    {
      "cell_type": "code",
      "metadata": {
        "id": "f-J2Pt49c7fp",
        "colab_type": "code",
        "colab": {}
      },
      "source": [
        ""
      ],
      "execution_count": 0,
      "outputs": []
    },
    {
      "cell_type": "code",
      "metadata": {
        "id": "aupnZHivxcdi",
        "colab_type": "code",
        "colab": {}
      },
      "source": [
        "#Reshaping Organic images to 175x175 and storing in Array\n",
        "rOrganic = []\n",
        "count = 0\n",
        "\n",
        "for i in Organic:\n",
        "  img = Image.fromarray(i)\n",
        "  if (np.array(img).shape[2])==3:\n",
        "    rOrganic.append(np.asarray(img.resize((175,175)))/255)\n",
        "  count +=1\n",
        "  if count == maxiters:\n",
        "    break"
      ],
      "execution_count": 0,
      "outputs": []
    },
    {
      "cell_type": "code",
      "metadata": {
        "id": "Goez6mxwxcjc",
        "colab_type": "code",
        "colab": {}
      },
      "source": [
        "count = 0\n",
        "#Reshaping Recycled images to 175x175\n",
        "rRecycled = []\n",
        "for i in Recycled:\n",
        "  img = Image.fromarray(i)\n",
        "  if (np.array(img).shape[2])==3:\n",
        "    rRecycled.append(np.asarray(img.resize((175,175)))/255)\n",
        "  count +=1\n",
        "  if count == maxiters:\n",
        "    break"
      ],
      "execution_count": 0,
      "outputs": []
    },
    {
      "cell_type": "code",
      "metadata": {
        "id": "t3wXlMWU7Ms6",
        "colab_type": "code",
        "colab": {}
      },
      "source": [
        "#del rOrganic[2] #deletes inconsistent element\n",
        "#del rOrganic[194] #deletes inconsistent element"
      ],
      "execution_count": 0,
      "outputs": []
    },
    {
      "cell_type": "code",
      "metadata": {
        "id": "tcPJ2RGz_3Ur",
        "colab_type": "code",
        "colab": {
          "base_uri": "https://localhost:8080/",
          "height": 242
        },
        "outputId": "074fa70c-2a12-4ff7-853d-ce230d4b0360"
      },
      "source": [
        "\n",
        "Image.fromarray(Recycled[2])"
      ],
      "execution_count": 14,
      "outputs": [
        {
          "output_type": "execute_result",
          "data": {
            "image/png": "[encoded data removed]",
            "text/plain": [
              "<PIL.Image.Image image mode=RGB size=225x225 at 0x7F7F45FAAC88>"
            ]
          },
          "metadata": {
            "tags": []
          },
          "execution_count": 14
        }
      ]
    },
    {
      "cell_type": "code",
      "metadata": {
        "id": "Th_Y6PcixcrB",
        "colab_type": "code",
        "colab": {}
      },
      "source": [
        ""
      ],
      "execution_count": 0,
      "outputs": []
    },
    {
      "cell_type": "code",
      "metadata": {
        "id": "PFnsJdoZxcpK",
        "colab_type": "code",
        "colab": {}
      },
      "source": [
        "iAll = rOrganic + rRecycled #Combining all reshaped images Organic + Inorganic"
      ],
      "execution_count": 0,
      "outputs": []
    },
    {
      "cell_type": "code",
      "metadata": {
        "id": "Gwm1VR2txcnC",
        "colab_type": "code",
        "colab": {}
      },
      "source": [
        ""
      ],
      "execution_count": 0,
      "outputs": []
    },
    {
      "cell_type": "code",
      "metadata": {
        "id": "hGYShwbEzTjW",
        "colab_type": "code",
        "colab": {}
      },
      "source": [
        "lOrganic =np.ones(len(rOrganic))\n",
        "lRecycled =np.ones(len(rRecycled))\n",
        "\n",
        "lAll = list(lOrganic) + list(lRecycled) # Combining all labels from Organic and Recycled images"
      ],
      "execution_count": 0,
      "outputs": []
    },
    {
      "cell_type": "code",
      "metadata": {
        "id": "jUL-Fs8tzTmf",
        "colab_type": "code",
        "colab": {}
      },
      "source": [
        ""
      ],
      "execution_count": 0,
      "outputs": []
    },
    {
      "cell_type": "code",
      "metadata": {
        "id": "4eobMICgcb2s",
        "colab_type": "code",
        "colab": {}
      },
      "source": [
        ""
      ],
      "execution_count": 0,
      "outputs": []
    },
    {
      "cell_type": "code",
      "metadata": {
        "id": "LmIkImtmzTf9",
        "colab_type": "code",
        "colab": {}
      },
      "source": [
        "import random\n",
        "def Split(X, Y):#Receives inputs and labels and returns 3 sets for each (training, validation and test)\n",
        "  #Randomize data\n",
        "  combined = list(zip(X, Y))\n",
        "  random.shuffle(combined)\n",
        "  \n",
        "  X[:], Y[:] = zip(*combined)\n",
        "  \n",
        "  #Leaving 20% of the train_data/labels as the Test sets\n",
        "  tsSetLen = int(0.20*len(X))\n",
        "  vlSetLen = int(0.10*len(X))\n",
        "\n",
        "  #Test set\n",
        "  tsX = X[:tsSetLen] #Takes first 20% of dataset for Test\n",
        "  tsY = Y[:tsSetLen] #Takes first 20% of dataset for Test\n",
        "\n",
        "  #Training set\n",
        "  trX = X[tsSetLen:(len(X)-vlSetLen)]\n",
        "  trY = Y[tsSetLen:(len(Y)-vlSetLen)]\n",
        "  \n",
        "  #Validation set\n",
        "  vlX = X[(len(X)-vlSetLen):]\n",
        "  vlY = Y[(len(X)-vlSetLen):]\n",
        "  \n",
        "  return trX, trY, vlX, vlY, tsX, tsY  \n"
      ],
      "execution_count": 0,
      "outputs": []
    },
    {
      "cell_type": "code",
      "metadata": {
        "id": "slon5Zac36q1",
        "colab_type": "code",
        "colab": {}
      },
      "source": [
        "trX, trY, vlX, vlY, tsX, tsY = Split(iAll, lAll)"
      ],
      "execution_count": 0,
      "outputs": []
    },
    {
      "cell_type": "code",
      "metadata": {
        "id": "romWAk0lduRf",
        "colab_type": "code",
        "outputId": "de12f0de-b66e-4adc-82c8-0a835ca3ab7a",
        "colab": {
          "base_uri": "https://localhost:8080/",
          "height": 34
        }
      },
      "source": [
        "len(vlY)"
      ],
      "execution_count": 19,
      "outputs": [
        {
          "output_type": "execute_result",
          "data": {
            "text/plain": [
              "984"
            ]
          },
          "metadata": {
            "tags": []
          },
          "execution_count": 19
        }
      ]
    },
    {
      "cell_type": "code",
      "metadata": {
        "id": "QLnuNMz8X6n1",
        "colab_type": "code",
        "outputId": "44620eac-4009-4486-8df9-365bf41bfc09",
        "colab": {
          "base_uri": "https://localhost:8080/",
          "height": 34
        }
      },
      "source": [
        "from keras.models import Sequential\n",
        "from keras.layers import Conv2D, MaxPooling2D, Flatten, Dense, Dropout"
      ],
      "execution_count": 20,
      "outputs": [
        {
          "output_type": "stream",
          "text": [
            "Using TensorFlow backend.\n"
          ],
          "name": "stderr"
        }
      ]
    },
    {
      "cell_type": "code",
      "metadata": {
        "id": "atnbCt3dWTxH",
        "colab_type": "code",
        "colab": {
          "base_uri": "https://localhost:8080/",
          "height": 289
        },
        "outputId": "9b95b667-99b7-42a7-af8b-9538ad25101d"
      },
      "source": [
        "model = Sequential()\n",
        "model.add(Conv2D(filters=32, kernel_size=(3,3), activation = 'relu', padding = 'same',input_shape=(175,175,3)))\n",
        "model.add(MaxPooling2D(pool_size=(2,2)))\n",
        "model.add(Conv2D(filters=32, kernel_size=(3,3), activation='relu', padding='same'))\n",
        "model.add(MaxPooling2D(pool_size=(2,2)))\n",
        "model.add(Conv2D(filters=32, kernel_size=(3,3), activation='relu', padding='same'))\n",
        "model.add(MaxPooling2D(pool_size=(2,2)))    \n",
        "model.add(Flatten())\n",
        "\n",
        "# Densely connected layers\n",
        "model.add(Dense(64, activation='relu'))\n",
        "\n",
        "# Output layer\n",
        "model.add(Dense(1, activation='sigmoid'))\n",
        "\n",
        "#Compiling with ADAM optimizer & binary_crossentropy loss function\n",
        "model.compile(optimizer='adam', loss='binary_crossentropy', metrics=['accuracy'])"
      ],
      "execution_count": 21,
      "outputs": [
        {
          "output_type": "stream",
          "text": [
            "WARNING:tensorflow:From /usr/local/lib/python3.6/dist-packages/keras/backend/tensorflow_backend.py:66: The name tf.get_default_graph is deprecated. Please use tf.compat.v1.get_default_graph instead.\n",
            "\n",
            "WARNING:tensorflow:From /usr/local/lib/python3.6/dist-packages/keras/backend/tensorflow_backend.py:541: The name tf.placeholder is deprecated. Please use tf.compat.v1.placeholder instead.\n",
            "\n",
            "WARNING:tensorflow:From /usr/local/lib/python3.6/dist-packages/keras/backend/tensorflow_backend.py:4432: The name tf.random_uniform is deprecated. Please use tf.random.uniform instead.\n",
            "\n",
            "WARNING:tensorflow:From /usr/local/lib/python3.6/dist-packages/keras/backend/tensorflow_backend.py:4267: The name tf.nn.max_pool is deprecated. Please use tf.nn.max_pool2d instead.\n",
            "\n",
            "WARNING:tensorflow:From /usr/local/lib/python3.6/dist-packages/keras/optimizers.py:793: The name tf.train.Optimizer is deprecated. Please use tf.compat.v1.train.Optimizer instead.\n",
            "\n",
            "WARNING:tensorflow:From /usr/local/lib/python3.6/dist-packages/keras/backend/tensorflow_backend.py:3657: The name tf.log is deprecated. Please use tf.math.log instead.\n",
            "\n",
            "WARNING:tensorflow:From /usr/local/lib/python3.6/dist-packages/tensorflow/python/ops/nn_impl.py:180: add_dispatch_support.<locals>.wrapper (from tensorflow.python.ops.array_ops) is deprecated and will be removed in a future version.\n",
            "Instructions for updating:\n",
            "Use tf.where in 2.0, which has the same broadcast rule as np.where\n"
          ],
          "name": "stdout"
        }
      ]
    },
    {
      "cell_type": "code",
      "metadata": {
        "id": "Qnctr0-LNdUr",
        "colab_type": "code",
        "outputId": "bb1ca648-eca2-48c6-ae06-74c75a2f72f9",
        "colab": {
          "base_uri": "https://localhost:8080/",
          "height": 255
        }
      },
      "source": [
        "results = model.fit(np.array(tsX), np.array(tsY), epochs=5, batch_size=32, validation_data=(np.array(vlX), np.array(vlY)))"
      ],
      "execution_count": 22,
      "outputs": [
        {
          "output_type": "stream",
          "text": [
            "WARNING:tensorflow:From /usr/local/lib/python3.6/dist-packages/keras/backend/tensorflow_backend.py:1033: The name tf.assign_add is deprecated. Please use tf.compat.v1.assign_add instead.\n",
            "\n",
            "Train on 1969 samples, validate on 984 samples\n",
            "Epoch 1/5\n",
            "1969/1969 [==============================] - 12s 6ms/step - loss: 0.0096 - acc: 1.0000 - val_loss: 1.1921e-07 - val_acc: 1.0000\n",
            "Epoch 2/5\n",
            "1969/1969 [==============================] - 4s 2ms/step - loss: 1.1921e-07 - acc: 1.0000 - val_loss: 1.1921e-07 - val_acc: 1.0000\n",
            "Epoch 3/5\n",
            "1969/1969 [==============================] - 4s 2ms/step - loss: 1.1921e-07 - acc: 1.0000 - val_loss: 1.1921e-07 - val_acc: 1.0000\n",
            "Epoch 4/5\n",
            "1969/1969 [==============================] - 4s 2ms/step - loss: 1.1921e-07 - acc: 1.0000 - val_loss: 1.1921e-07 - val_acc: 1.0000\n",
            "Epoch 5/5\n",
            "1969/1969 [==============================] - 4s 2ms/step - loss: 1.1921e-07 - acc: 1.0000 - val_loss: 1.1921e-07 - val_acc: 1.0000\n"
          ],
          "name": "stdout"
        }
      ]
    },
    {
      "cell_type": "code",
      "metadata": {
        "id": "lzu8VJo2eGa3",
        "colab_type": "code",
        "outputId": "1df00ce9-7885-4308-cc84-cd5f12c2824a",
        "colab": {
          "base_uri": "https://localhost:8080/",
          "height": 454
        }
      },
      "source": [
        "model.summary()"
      ],
      "execution_count": 23,
      "outputs": [
        {
          "output_type": "stream",
          "text": [
            "Model: \"sequential_1\"\n",
            "_________________________________________________________________\n",
            "Layer (type)                 Output Shape              Param #   \n",
            "=================================================================\n",
            "conv2d_1 (Conv2D)            (None, 175, 175, 32)      896       \n",
            "_________________________________________________________________\n",
            "max_pooling2d_1 (MaxPooling2 (None, 87, 87, 32)        0         \n",
            "_________________________________________________________________\n",
            "conv2d_2 (Conv2D)            (None, 87, 87, 32)        9248      \n",
            "_________________________________________________________________\n",
            "max_pooling2d_2 (MaxPooling2 (None, 43, 43, 32)        0         \n",
            "_________________________________________________________________\n",
            "conv2d_3 (Conv2D)            (None, 43, 43, 32)        9248      \n",
            "_________________________________________________________________\n",
            "max_pooling2d_3 (MaxPooling2 (None, 21, 21, 32)        0         \n",
            "_________________________________________________________________\n",
            "flatten_1 (Flatten)          (None, 14112)             0         \n",
            "_________________________________________________________________\n",
            "dense_1 (Dense)              (None, 64)                903232    \n",
            "_________________________________________________________________\n",
            "dense_2 (Dense)              (None, 1)                 65        \n",
            "=================================================================\n",
            "Total params: 922,689\n",
            "Trainable params: 922,689\n",
            "Non-trainable params: 0\n",
            "_________________________________________________________________\n"
          ],
          "name": "stdout"
        }
      ]
    },
    {
      "cell_type": "code",
      "metadata": {
        "id": "r6ihYwQ-kczG",
        "colab_type": "code",
        "outputId": "b747b6aa-8d6d-495f-80b1-e8a5d470e775",
        "colab": {
          "base_uri": "https://localhost:8080/",
          "height": 168
        }
      },
      "source": [
        "model.layers"
      ],
      "execution_count": 24,
      "outputs": [
        {
          "output_type": "execute_result",
          "data": {
            "text/plain": [
              "[<keras.layers.convolutional.Conv2D at 0x7f7f449cdf98>,\n",
              " <keras.layers.pooling.MaxPooling2D at 0x7f7f0dea7828>,\n",
              " <keras.layers.convolutional.Conv2D at 0x7f7f449cdbe0>,\n",
              " <keras.layers.pooling.MaxPooling2D at 0x7f7f0d657390>,\n",
              " <keras.layers.convolutional.Conv2D at 0x7f7f0dea7f98>,\n",
              " <keras.layers.pooling.MaxPooling2D at 0x7f7f0d671c88>,\n",
              " <keras.layers.core.Flatten at 0x7f7f0d657358>,\n",
              " <keras.layers.core.Dense at 0x7f7f0d6719b0>,\n",
              " <keras.layers.core.Dense at 0x7f7f0d687b38>]"
            ]
          },
          "metadata": {
            "tags": []
          },
          "execution_count": 24
        }
      ]
    },
    {
      "cell_type": "code",
      "metadata": {
        "id": "AV20htdTmiVC",
        "colab_type": "code",
        "outputId": "dbb1b673-f28d-48c6-c7f6-74cb4ccdfdd0",
        "colab": {
          "base_uri": "https://localhost:8080/",
          "height": 67
        }
      },
      "source": [
        "from matplotlib import pyplot\n",
        "# summarize filter shapes\n",
        "for layer in model.layers:\n",
        "\t# check for convolutional layer\n",
        "\tif 'conv' not in layer.name:\n",
        "\t\tcontinue\n",
        "\t# get filter weights\n",
        "\tfilters, biases = layer.get_weights()\n",
        "\tprint(layer.name, filters.shape)"
      ],
      "execution_count": 25,
      "outputs": [
        {
          "output_type": "stream",
          "text": [
            "conv2d_1 (3, 3, 3, 32)\n",
            "conv2d_2 (3, 3, 32, 32)\n",
            "conv2d_3 (3, 3, 32, 32)\n"
          ],
          "name": "stdout"
        }
      ]
    },
    {
      "cell_type": "code",
      "metadata": {
        "id": "UL6FZgopmia7",
        "colab_type": "code",
        "colab": {}
      },
      "source": [
        "# retrieve weights from the second hidden layer\n",
        "filters, biases = model.layers[4].get_weights()"
      ],
      "execution_count": 0,
      "outputs": []
    },
    {
      "cell_type": "code",
      "metadata": {
        "id": "TmVGGNfmoma1",
        "colab_type": "code",
        "outputId": "8fac46d4-c199-4c2c-abc7-f70ee34143ba",
        "colab": {
          "base_uri": "https://localhost:8080/",
          "height": 34
        }
      },
      "source": [
        "filters.shape"
      ],
      "execution_count": 27,
      "outputs": [
        {
          "output_type": "execute_result",
          "data": {
            "text/plain": [
              "(3, 3, 32, 32)"
            ]
          },
          "metadata": {
            "tags": []
          },
          "execution_count": 27
        }
      ]
    },
    {
      "cell_type": "code",
      "metadata": {
        "id": "fSRm51jbnHVi",
        "colab_type": "code",
        "colab": {}
      },
      "source": [
        "#normalize filter values to 0-1 so we can visualize them\n",
        "f_min, f_max = filters.min(), filters.max()\n",
        "filters = (filters - f_min) / (f_max - f_min)\n"
      ],
      "execution_count": 0,
      "outputs": []
    },
    {
      "cell_type": "code",
      "metadata": {
        "id": "KWuJWB1ZnTFz",
        "colab_type": "code",
        "outputId": "c0d4c742-b134-4b09-c356-0f5d4792261d",
        "colab": {
          "base_uri": "https://localhost:8080/",
          "height": 255
        }
      },
      "source": [
        "# plot first few filters\n",
        "n_filters, ix = 10, 1\n",
        "for i in range(n_filters):\n",
        "\t# get the filter\n",
        "\tf = filters[:, :, :, i]\n",
        "\t# plot each channel separately\n",
        "\tfor j in range(3):\n",
        "\t\t#subplot\n",
        "\t\tax = pyplot.subplot(n_filters, 3, ix)\n",
        "\t\tax.set_xticks([])\n",
        "\t\tax.set_yticks([])\n",
        "\t\t#plot filter channel\n",
        "\t\tpyplot.imshow(f[:, :, j])\n",
        "\t\tix += 1\n",
        "\n",
        "pyplot.show()"
      ],
      "execution_count": 29,
      "outputs": [
        {
          "output_type": "display_data",
          "data": {
            "image/png": "[encoded data removed]",
            "text/plain": [
              "<Figure size 432x288 with 30 Axes>"
            ]
          },
          "metadata": {
            "tags": []
          }
        }
      ]
    },
    {
      "cell_type": "code",
      "metadata": {
        "id": "R1kmCxfuWCnT",
        "colab_type": "code",
        "colab": {}
      },
      "source": [
        ""
      ],
      "execution_count": 0,
      "outputs": []
    }
  ]
}